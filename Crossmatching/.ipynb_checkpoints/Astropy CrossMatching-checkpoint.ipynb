{
 "cells": [
  {
   "cell_type": "markdown",
   "metadata": {},
   "source": [
    "### __AstroPY__  \n",
    "crossmatching function uses K-Dimensional Tree matching\n",
    "***\n"
   ]
  },
  {
   "cell_type": "markdown",
   "metadata": {},
   "source": [
    "### K-Dimensional Tree Matching to find the closest match for Sirius A Star from the SuperCOSMOS optical survey catalogue to the BSS Radio survey catalogue"
   ]
  },
  {
   "cell_type": "code",
   "execution_count": 1,
   "metadata": {},
   "outputs": [
    {
     "name": "stdout",
     "output_type": "stream",
     "text": [
      "matches: [(0, 0, 2.0000000000000036), (2, 2, 1.7420109046547128)]\n",
      "unmatched: [1]\n",
      "time taken: 0.16121455000000395\n",
      "matches: []\n",
      "unmatched: [0, 1, 2, 3, 4, 5, 6, 7, 8, 9]\n",
      "time taken: 0.0037527440000033607\n"
     ]
    }
   ],
   "source": [
    "import numpy as np\n",
    "from astropy.coordinates import SkyCoord\n",
    "from astropy import units as u \n",
    "import time \n",
    "\n",
    "def crossmatch(catalogue1,catalogue2,max_dist):\n",
    "    start = time.perf_counter()\n",
    "    matches = list()\n",
    "    no_matches = list()\n",
    "    skycatobj0 = SkyCoord(catalogue1*u.degree, frame='icrs')\n",
    "    skycatobj1 = SkyCoord(catalogue2*u.degree, frame='icrs')\n",
    "    \n",
    "    closest_ids, closest_dists, ignore_val = skycatobj0.match_to_catalog_sky(skycatobj1)\n",
    "    for iterator, (idval, dist) in enumerate(zip(closest_ids,closest_dists.value)):\n",
    "        if dist > max_dist:\n",
    "            no_matches.append(iterator)\n",
    "        else:\n",
    "            matches.append((iterator,idval,dist))\n",
    "            \n",
    "            \n",
    "    timecomplexity = time.perf_counter() - start \n",
    "    \n",
    "    return matches, no_matches,timecomplexity\n",
    "            \n",
    "\n",
    "\n",
    "\n",
    "if __name__ == '__main__':\n",
    "  # The example in the question\n",
    "  cat1 = np.array([[180, 30], [45, 10], [300, -45]])\n",
    "  cat2 = np.array([[180, 32], [55, 10], [302, -44]])\n",
    "  matches, no_matches, time_taken = crossmatch(cat1, cat2, 5)\n",
    "  print('matches:', matches)\n",
    "  print('unmatched:', no_matches)\n",
    "  print('time taken:', time_taken)\n",
    "\n",
    "  # A function to create a random catalogue of size n\n",
    "  def create_cat(n):\n",
    "    ras = np.random.uniform(0, 360, size=(n, 1))\n",
    "    decs = np.random.uniform(-90, 90, size=(n, 1))\n",
    "    return np.hstack((ras, decs))\n",
    "\n",
    "  # Test your function on random inputs\n",
    "  np.random.seed(0)\n",
    "  cat1 = create_cat(10)\n",
    "  cat2 = create_cat(20)\n",
    "  matches, no_matches, time_taken = crossmatch(cat1, cat2, 5)\n",
    "  print('matches:', matches)\n",
    "  print('unmatched:', no_matches)\n",
    "  print('time taken:', time_taken)\n"
   ]
  },
  {
   "cell_type": "code",
   "execution_count": null,
   "metadata": {},
   "outputs": [],
   "source": []
  }
 ],
 "metadata": {
  "kernelspec": {
   "display_name": "Python 3",
   "language": "python",
   "name": "python3"
  },
  "language_info": {
   "codemirror_mode": {
    "name": "ipython",
    "version": 3
   },
   "file_extension": ".py",
   "mimetype": "text/x-python",
   "name": "python",
   "nbconvert_exporter": "python",
   "pygments_lexer": "ipython3",
   "version": "3.7.6"
  }
 },
 "nbformat": 4,
 "nbformat_minor": 4
}
