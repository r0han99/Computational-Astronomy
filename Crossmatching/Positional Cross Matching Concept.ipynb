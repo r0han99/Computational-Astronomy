{
 "cells": [
  {
   "cell_type": "markdown",
   "metadata": {},
   "source": [
    "# Postitional Cross Matching "
   ]
  },
  {
   "cell_type": "markdown",
   "metadata": {},
   "source": [
    "  ### __Right Ascension__"
   ]
  },
  {
   "cell_type": "code",
   "execution_count": 1,
   "metadata": {},
   "outputs": [
    {
     "name": "stdout",
     "output_type": "stream",
     "text": [
      "HMS notation to Degree : 348.025\n"
     ]
    }
   ],
   "source": [
    "# Hours-Minutes-Seconds (HMS) notation, \n",
    "#23 hours, 12 minutes and 6 seconds\n",
    "print(\"HMS notation to Degree : \",end=\"\")\n",
    "print(15*(23+ 12/60 + 6/(60*60))) "
   ]
  },
  {
   "cell_type": "markdown",
   "metadata": {},
   "source": [
    "### __Declination__"
   ]
  },
  {
   "cell_type": "code",
   "execution_count": 2,
   "metadata": {},
   "outputs": [
    {
     "name": "stdout",
     "output_type": "stream",
     "text": [
      "DMS notation to decimal degrees :  73.354\n"
     ]
    }
   ],
   "source": [
    "# Degree-Minutes-Seconds(DMS) notation, \n",
    "#73 degrees, 21 arcminutes and 14.4 arcseconds \n",
    "print(\"DMS notation to decimal degrees : \",end = \" \")\n",
    "print(73 + 21/60 + 14.4/(60*60))"
   ]
  },
  {
   "cell_type": "markdown",
   "metadata": {},
   "source": [
    "#### Celestial Coordinate Conversions\n",
    "***\n",
    "one that converts right ascension from HMS to decimal degrees\n",
    "another that converts declination from DMS to decimal degrees\n",
    "***"
   ]
  },
  {
   "cell_type": "markdown",
   "metadata": {},
   "source": [
    "### RA and Dec for Sirius  - RA 6h 45m 9s | Dec -16° 42′ 58″"
   ]
  },
  {
   "cell_type": "code",
   "execution_count": 7,
   "metadata": {},
   "outputs": [
    {
     "name": "stdout",
     "output_type": "stream",
     "text": [
      "In Degrees\n",
      "101.28750000000001\n",
      "-16.71611111111111\n"
     ]
    }
   ],
   "source": [
    "# Write your hms2dec and dms2dec functions here\n",
    "\n",
    "def hms2dec(hr,mn,sec):\n",
    "    return (15*(hr + mn/60 + sec/(60*60)))\n",
    "\n",
    "def dms2dec(deg,arcmin,arcsec):\n",
    "    dec_deg = abs(deg) + arcmin/60 + arcsec/(60*60)\n",
    "    if deg > 0:\n",
    "        return dec_deg\n",
    "    else:\n",
    "        return -dec_deg\n",
    "\n",
    "if __name__ == '__main__':\n",
    "    \n",
    "    print('In Degrees')\n",
    "    print(hms2dec(6, 45, 9))\n",
    "    print(dms2dec(-16, 42, 58))\n",
    "    "
   ]
  },
  {
   "attachments": {
    "Screenshot%202020-05-30%20at%202.09.30%20AM.png": {
     "image/png": "[encoded data removed]"
    }
   },
   "cell_type": "markdown",
   "metadata": {},
   "source": [
    "### Angular Distance\n",
    "***\n",
    "####  The angular distance between any two points on the celestial sphere given their right ascension and declination.\n",
    "***\n",
    "\n",
    "![Screenshot%202020-05-30%20at%202.09.30%20AM.png](attachment:Screenshot%202020-05-30%20at%202.09.30%20AM.png)"
   ]
  },
  {
   "cell_type": "code",
   "execution_count": 4,
   "metadata": {},
   "outputs": [
    {
     "name": "stdout",
     "output_type": "stream",
     "text": [
      "8.100392318146506\n",
      "29.208498180546595\n"
     ]
    }
   ],
   "source": [
    "\n",
    "import numpy as np \n",
    "def angular_dist(r1,d1,r2,d2):\n",
    "    r1,d1,r2,d2 = map(np.radians, [r1,d1,r2,d2])\n",
    "    a = np.sin(abs(d1-d2)/2)**2\n",
    "    b = np.cos(d1)*np.cos(d2)*np.sin(abs(r1-r2)/2)**2\n",
    "    d = 2*np.arcsin(np.sqrt(a+b))\n",
    "    dec_deg = np.degrees(d)\n",
    "    return dec_deg\n",
    "    \n",
    "\n",
    "if __name__ == '__main__':\n",
    "\n",
    "  print(angular_dist(21.07, 0.1, 21.15, 8.2))\n",
    "\n",
    "  print(angular_dist(10.3, -3, 24.3, -29))\n"
   ]
  },
  {
   "cell_type": "markdown",
   "metadata": {},
   "source": [
    "### Explanation\n",
    "***\n",
    "Every day sky surveys are undergone, which detects for different spectrums of wavelegths,\n",
    "like radio wavelengths, optical wavelengths etc, so for a particular object of interest      from these survey datasets, we cross-match them. The Next Jupyter notebook simulates the manual workflow of crossmatching between two different sample sky-survey-datasets for an Object of interest\n",
    "***"
   ]
  },
  {
   "cell_type": "code",
   "execution_count": null,
   "metadata": {},
   "outputs": [],
   "source": []
  }
 ],
 "metadata": {
  "kernelspec": {
   "display_name": "Python 3",
   "language": "python",
   "name": "python3"
  },
  "language_info": {
   "codemirror_mode": {
    "name": "ipython",
    "version": 3
   },
   "file_extension": ".py",
   "mimetype": "text/x-python",
   "name": "python",
   "nbconvert_exporter": "python",
   "pygments_lexer": "ipython3",
   "version": "3.7.6"
  }
 },
 "nbformat": 4,
 "nbformat_minor": 4
}
